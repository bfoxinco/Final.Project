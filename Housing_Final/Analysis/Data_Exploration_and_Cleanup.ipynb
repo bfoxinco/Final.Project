{
 "cells": [
  {
   "cell_type": "code",
   "execution_count": null,
   "metadata": {},
   "outputs": [],
   "source": [
    "import requests\n",
    "import json\n",
    "import quandl #https://docs.quandl.com/docs/python-time-series give a how to guide\n",
    "from config import q_api_key\n",
    "from config import y_api_key\n",
    "from config import c_api_key\n",
    "\n",
    "import pandas as pd\n",
    "import matplotlib.pyplot as plt\n",
    "import requests\n",
    "from census import Census\n",
    "c = Census(c_api_key, year=2017)\n",
    "\n",
    "import gmaps\n",
    "from config import gkey\n",
    "\n",
    "gmaps.configure(api_key=gkey)\n",
    "\n",
    "from uszipcode import SearchEngine, SimpleZipcode, Zipcode #https://uszipcode.readthedocs.io/index.html\n",
    "search = SearchEngine()"
   ]
  },
  {
   "cell_type": "code",
   "execution_count": null,
   "metadata": {},
   "outputs": [],
   "source": [
    "quandl.ApiConfig.api_key = q_api_key"
   ]
  },
  {
   "cell_type": "code",
   "execution_count": null,
   "metadata": {},
   "outputs": [],
   "source": [
    "zipcode_df=pd.read_csv(\"../Resources/zipcode.csv\")\n",
    "zipcode_df['Zipcode'] = pd.to_numeric(zipcode_df['Zipcode'])\n",
    "zipcode_df.head()"
   ]
  },
  {
   "cell_type": "code",
   "execution_count": null,
   "metadata": {},
   "outputs": [],
   "source": [
    "zipcodes = zipcode_df['Zipcode'].tolist()\n",
    "medianrent=[]\n",
    "medianhomevalues=[]\n",
    "for x in range(0,len(zipcodes)):\n",
    "    try:\n",
    "        mr_raw=quandl.get(f\"ZILLOW/Z{zipcodes[x]}_ZRIAH\", collapse=\"annual\", start_date=\"2018-12-31\", end_date=\"2018-12-31\")\n",
    "        mr_list=mr_raw[\"Value\"].tolist()\n",
    "        medianrent.append(mr_list[0])\n",
    "        print(f'Pulled rent data for {zipcodes[x]}')\n",
    "    except:\n",
    "        mr_missing='NaN'\n",
    "        medianrent.append(mr_missing)\n",
    "        print(f'Rent data for {zipcodes[x]} not found')\n",
    "    try:\n",
    "        mhv_raw=quandl.get(f\"ZILLOW/Z{zipcodes[x]}_ZHVIAH\", collapse=\"annual\", start_date=\"2018-12-31\", end_date=\"2018-12-31\")\n",
    "        mhv_list=mhv_raw[\"Value\"].tolist()\n",
    "        medianhomevalues.append(mhv_list[0])\n",
    "        print(f'Pulled home value data for {zipcodes[x]}')\n",
    "    except:\n",
    "        mhv_missing='NaN'\n",
    "        medianhomevalues.append(mhv_missing)\n",
    "        print(f'Home value data for {zipcodes[x]} not found')\n",
    "print(medianrent)\n",
    "print(medianhomevalues)"
   ]
  },
  {
   "cell_type": "code",
   "execution_count": null,
   "metadata": {},
   "outputs": [],
   "source": [
    "housing_df = pd.DataFrame({\"Zipcode\":zipcodes, \"Median Rent\":medianrent, \"Median Home Value\":medianhomevalues})\n",
    "housing_df.head()"
   ]
  },
  {
   "cell_type": "code",
   "execution_count": null,
   "metadata": {},
   "outputs": [],
   "source": [
    "rent_df = housing_df[[\"Zipcode\", \"Median Rent\"]]\n",
    "rent_df.head()"
   ]
  },
  {
   "cell_type": "code",
   "execution_count": null,
   "metadata": {},
   "outputs": [],
   "source": [
    "headers = {'Authorization': 'Bearer %s' % y_api_key}\n",
    "\n",
    "categories = 'nightlife' \n",
    "url='https://api.yelp.com/v3/businesses/search'\n",
    "category_l = []\n",
    "for zipcode in zipcodes:\n",
    "    print(f'starting datapull for {zipcode}')    \n",
    "    yelp_data = []    \n",
    "    for offset in range(0, 1000, 50):\n",
    "        params = {\n",
    "            'limit': 50, \n",
    "            'location': zipcode,\n",
    "            'categories': categories,\n",
    "            'offset': offset\n",
    "        }\n",
    "\n",
    "        response = requests.get(url, headers=headers, params=params)\n",
    "        if response.status_code == 200:            \n",
    "            yelp_data += response.json()['businesses']\n",
    "        elif response.status_code == 400:\n",
    "            print('400 Bad Request')\n",
    "            break\n",
    "    print(f'finished datapull for {zipcode}')    \n",
    "    zipcode_b =[]    \n",
    "    for business in range(0,len(yelp_data)):\n",
    "        currentzip =str(yelp_data[business][\"location\"][\"zip_code\"])\n",
    "        if currentzip == str(zipcode):\n",
    "            zipcode_b.append(currentzip)            \n",
    "    numberinzip=len(zipcode_b)\n",
    "    category_l.append(numberinzip)\n",
    "    print(f'new appended category total: {numberinzip}  for {zipcode}')"
   ]
  },
  {
   "cell_type": "code",
   "execution_count": null,
   "metadata": {},
   "outputs": [],
   "source": [
    "categories = 'restaurants' \n",
    "url='https://api.yelp.com/v3/businesses/search'\n",
    "category_r = []\n",
    "for zipcode in zipcodes:\n",
    "    print(f'starting datapull for {zipcode}')   \n",
    "    yelp_data = []    \n",
    "    for offset in range(0, 1000, 50):\n",
    "        params = {\n",
    "            'limit': 50, \n",
    "            'location': zipcode,\n",
    "            'categories': categories,\n",
    "            'offset': offset\n",
    "        }\n",
    "\n",
    "        response = requests.get(url, headers=headers, params=params)\n",
    "        if response.status_code == 200:            \n",
    "            yelp_data += response.json()['businesses']\n",
    "        elif response.status_code == 400:\n",
    "            print('400 Bad Request')\n",
    "            break\n",
    "    print(f'finished datapull for {zipcode}')    \n",
    "    zipcode_b =[]   \n",
    "    for business in range(0,len(yelp_data)):\n",
    "        currentzip =str(yelp_data[business][\"location\"][\"zip_code\"])\n",
    "        if currentzip == str(zipcode):\n",
    "            zipcode_b.append(currentzip)           \n",
    "    numberinzip=len(zipcode_b)\n",
    "    category_r.append(numberinzip)\n",
    "    print(f'new appended category total: {numberinzip}  for {zipcode}')"
   ]
  },
  {
   "cell_type": "code",
   "execution_count": null,
   "metadata": {},
   "outputs": [],
   "source": [
    "categories = 'grocery' \n",
    "url='https://api.yelp.com/v3/businesses/search'\n",
    "category_g = []\n",
    "for zipcode in zipcodes:\n",
    "    print(f'starting datapull for {zipcode}')   \n",
    "    yelp_data = []    \n",
    "    for offset in range(0, 1000, 50):\n",
    "        params = {\n",
    "            'limit': 50, \n",
    "            'location': zipcode,\n",
    "            'categories': categories,\n",
    "            'offset': offset\n",
    "        }\n",
    "\n",
    "        response = requests.get(url, headers=headers, params=params)\n",
    "        if response.status_code == 200:           \n",
    "            yelp_data += response.json()['businesses']\n",
    "        elif response.status_code == 400:\n",
    "            print('400 Bad Request')\n",
    "            break\n",
    "    print(f'finished datapull for {zipcode}')   \n",
    "    zipcode_b =[]   \n",
    "    for business in range(0,len(yelp_data)):\n",
    "        currentzip =str(yelp_data[business][\"location\"][\"zip_code\"])\n",
    "        if currentzip == str(zipcode):\n",
    "            zipcode_b.append(currentzip)            \n",
    "    numberinzip=len(zipcode_b)\n",
    "    category_g.append(numberinzip)\n",
    "    print(f'new appended category total: {numberinzip}  for {zipcode}')"
   ]
  },
  {
   "cell_type": "code",
   "execution_count": null,
   "metadata": {},
   "outputs": [],
   "source": [
    "yelp_df=pd.DataFrame({\"Zipcode\":zipcodes, \"Total Nightlife\": category_l, \"Total Restaurant\": category_r, \n",
    "                      \"Total Grocery\": category_g})"
   ]
  },
  {
   "cell_type": "code",
   "execution_count": null,
   "metadata": {},
   "outputs": [],
   "source": [
    "yelp_df.to_csv(\"../Output/Yelp_Data.csv\", encoding=\"utf-8\", index=False)"
   ]
  },
  {
   "cell_type": "code",
   "execution_count": null,
   "metadata": {},
   "outputs": [],
   "source": [
    "df_crime = pd.read_csv('../Resources/Crimes_2018.csv')\n",
    "df_crime_latlon=df_crime.loc[:,['Latitude', 'Longitude']]\n",
    "df_crime_latlon.head()"
   ]
  },
  {
   "cell_type": "code",
   "execution_count": null,
   "metadata": {},
   "outputs": [],
   "source": [
    "len(df_crime_latlon)"
   ]
  },
  {
   "cell_type": "code",
   "execution_count": null,
   "metadata": {},
   "outputs": [],
   "source": [
    "from uszipcode import SearchEngine, SimpleZipcode, Zipcode\n",
    "search = SearchEngine()"
   ]
  },
  {
   "cell_type": "code",
   "execution_count": null,
   "metadata": {},
   "outputs": [],
   "source": [
    "res = []\n",
    "for index, row in df_crime_latlon.iterrows():    \n",
    "    result = search.by_coordinates(row[\"Latitude\"], row[\"Longitude\"], radius=3, returns=1)    \n",
    "    res.append(result)"
   ]
  },
  {
   "cell_type": "code",
   "execution_count": null,
   "metadata": {},
   "outputs": [],
   "source": [
    "zipcodes_crime = []\n",
    "for i in range(len(res)):    \n",
    "    for x in res[i]:       \n",
    "        zip = x.zipcode     \n",
    "        zipcodes_crime.append(zip)\n",
    "len(zipcodes_crime)"
   ]
  },
  {
   "cell_type": "code",
   "execution_count": null,
   "metadata": {},
   "outputs": [],
   "source": [
    "crime_zip_df = pd.DataFrame({\"Zipcode\": zipcodes_crime})"
   ]
  },
  {
   "cell_type": "code",
   "execution_count": null,
   "metadata": {},
   "outputs": [],
   "source": [
    "zipcode_count = crime_zip_df[\"Zipcode\"].value_counts().reset_index()\n",
    "crime_count = zipcode_count.rename(columns={\"index\": \"Zipcode\",\"Zipcode\":\"Crime Count\"})\n",
    "\n",
    "crime_count['Zipcode'] = pd.to_numeric(crime_count['Zipcode'])\n",
    "crime_count_df = crime_count.sort_values(\"Zipcode\")\n",
    "crime_count_df"
   ]
  },
  {
   "cell_type": "code",
   "execution_count": null,
   "metadata": {},
   "outputs": [],
   "source": [
    "crime_count_df.to_csv(\"../Output/Crime_Count_by_Zip.csv\", encoding=\"utf-8\", index=False)"
   ]
  },
  {
   "cell_type": "code",
   "execution_count": null,
   "metadata": {},
   "outputs": [],
   "source": [
    "census_data = c.acs5.get((\"NAME\", \"B19013_001E\", \"B01003_001E\", \"B01002_001E\",\n",
    "                          \"B19301_001E\",\n",
    "                          \"B17001_002E\"), {'for': 'zip code tabulation area:*'})\n",
    "\n",
    "\n",
    "\n",
    "census_pd = pd.DataFrame(census_data)\n",
    "\n",
    "   \n",
    "\n",
    "census_pd = census_pd.rename(columns={\"B01003_001E\": \"Population\",\n",
    "                                      \"B01002_001E\": \"Median Age\",\n",
    "                                      \"B19013_001E\": \"Household Income\",\n",
    "                                      \"B19301_001E\": \"Per Capita Income\",\n",
    "                                      \"B17001_002E\": \"Poverty Count\",\n",
    "                                      \"NAME\": \"Name\", \"zip code tabulation area\": \"Zipcode\"})\n",
    "census_pd[\"Poverty Rate\"] = 100 * \\\n",
    "    census_pd[\"Poverty Count\"].astype(\n",
    "        int) / census_pd[\"Population\"].astype(int)\n",
    "census_pd = census_pd[[\"Zipcode\", \"Population\", \"Median Age\", \"Household Income\",\n",
    "                       \"Per Capita Income\", \"Poverty Count\", \"Poverty Rate\"]]\n",
    "census_pd['Zipcode'] = pd.to_numeric(census_pd['Zipcode'])\n",
    "census_pd.head()"
   ]
  },
  {
   "cell_type": "code",
   "execution_count": null,
   "metadata": {},
   "outputs": [],
   "source": [
    "chicago_census_df = pd.merge(zipcode_df, census_pd, on=\"Zipcode\")\n",
    "chicago_census_df.head()"
   ]
  },
  {
   "cell_type": "code",
   "execution_count": null,
   "metadata": {},
   "outputs": [],
   "source": [
    "chicago_census_df[\"Lat\"] = \"\"\n",
    "chicago_census_df[\"Lng\"] = \"\"\n",
    "chicago_census_df.head()"
   ]
  },
  {
   "cell_type": "code",
   "execution_count": null,
   "metadata": {},
   "outputs": [],
   "source": [
    "params = {\"key\": gkey}\n",
    "\n",
    "for index, row in chicago_census_df.iterrows():\n",
    "    base_url = \"https://maps.googleapis.com/maps/api/geocode/json\"\n",
    "\n",
    "    address = row['Zipcode']\n",
    "    \n",
    "    params['address'] = f\"{address}\"\n",
    "    \n",
    "    response = requests.get(base_url, params=params).json()  \n",
    "  \n",
    "    \n",
    "\n",
    "    chicago_census_df.loc[index, \"Lat\"] = response[\"results\"][0][\"geometry\"][\"location\"][\"lat\"]\n",
    "    chicago_census_df.loc[index, \"Lng\"] = response[\"results\"][0][\"geometry\"][\"location\"][\"lng\"]\n",
    "\n",
    "chicago_census_df.head()"
   ]
  },
  {
   "cell_type": "code",
   "execution_count": null,
   "metadata": {},
   "outputs": [],
   "source": [
    "chicago_housing_census_df =  pd.merge(housing_df, chicago_census_df, on=\"Zipcode\")\n",
    "chicago_housing_census_df.head()"
   ]
  },
  {
   "cell_type": "code",
   "execution_count": null,
   "metadata": {},
   "outputs": [],
   "source": [
    "chicago_housing_census_df.to_csv(\"../Output/Chicago_Housing_and_Census_Data.csv\", encoding=\"utf-8\", index=False)"
   ]
  },
  {
   "cell_type": "code",
   "execution_count": null,
   "metadata": {},
   "outputs": [],
   "source": [
    "airbnb_df = pd.read_csv('../Resources/AisBnB_listings.csv')\n",
    "airbnb_df.head()"
   ]
  },
  {
   "cell_type": "code",
   "execution_count": null,
   "metadata": {},
   "outputs": [],
   "source": [
    "airbnb_cleaned = airbnb_df[[\"name\", \"neighbourhood\",\"latitude\", \"longitude\", \"number_of_reviews\"]]\n",
    "airbnb_cleaned.head()"
   ]
  },
  {
   "cell_type": "code",
   "execution_count": null,
   "metadata": {},
   "outputs": [],
   "source": [
    "results = []\n",
    "for index, row in airbnb_cleaned.iterrows():   \n",
    "    result = search.by_coordinates(row[\"latitude\"], row[\"longitude\"], radius=3, returns=1)    \n",
    "    results.append(result)"
   ]
  },
  {
   "cell_type": "code",
   "execution_count": null,
   "metadata": {},
   "outputs": [],
   "source": [
    "len(results)"
   ]
  },
  {
   "cell_type": "code",
   "execution_count": null,
   "metadata": {},
   "outputs": [],
   "source": [
    "zipcodes_airbnb= []\n",
    "for i in range(len(results)):    \n",
    "    for x in results[i]:        \n",
    "        zip = x.zipcode     \n",
    "        zipcodes_airbnb.append(zip)\n",
    "len(zipcodes_airbnb)\n",
    "zipcodes_airbnb"
   ]
  },
  {
   "cell_type": "code",
   "execution_count": null,
   "metadata": {},
   "outputs": [],
   "source": [
    "airbnb_zip_df = pd.DataFrame({\"Zipcode\": zipcodes_airbnb})"
   ]
  },
  {
   "cell_type": "code",
   "execution_count": null,
   "metadata": {},
   "outputs": [],
   "source": [
    "airbnb_data_by_zipcode = airbnb_cleaned.join(airbnb_zip_df)\n",
    "airbnb_data_by_zipcode.head()"
   ]
  },
  {
   "cell_type": "code",
   "execution_count": null,
   "metadata": {},
   "outputs": [],
   "source": [
    "airbnb_zipcode = airbnb_data_by_zipcode[[\"Zipcode\", \"number_of_reviews\"]]\n",
    "airbnb_zipcode.head()"
   ]
  },
  {
   "cell_type": "code",
   "execution_count": null,
   "metadata": {},
   "outputs": [],
   "source": [
    "airbnb_zipcode_sort = airbnb_zipcode.sort_values(\"Zipcode\")\n",
    "airbnb_zipcode_sort.head()"
   ]
  },
  {
   "cell_type": "code",
   "execution_count": null,
   "metadata": {},
   "outputs": [],
   "source": [
    "airbnb_zipcode_sort[\"Zipcode\"].unique()"
   ]
  },
  {
   "cell_type": "code",
   "execution_count": null,
   "metadata": {},
   "outputs": [],
   "source": [
    "grouped_zipcode = airbnb_zipcode_sort.groupby(['Zipcode'])"
   ]
  },
  {
   "cell_type": "code",
   "execution_count": null,
   "metadata": {},
   "outputs": [],
   "source": [
    "avg_reviews = round(grouped_zipcode.mean()[\"number_of_reviews\"])\n",
    "\n",
    "airbnb_reviews_zipcode = pd.DataFrame({\"AirBnB Review Count\": avg_reviews})\n",
    "airbnb_reviews_zipcode.head()"
   ]
  },
  {
   "cell_type": "code",
   "execution_count": null,
   "metadata": {},
   "outputs": [],
   "source": [
    "airbnb_reviews_zipcode.to_csv(\"../Output/AirBnB_Reviews_Zipcode.csv\", encoding=\"utf-8\")"
   ]
  },
  {
   "cell_type": "code",
   "execution_count": null,
   "metadata": {},
   "outputs": [],
   "source": [
    "airbnb_zipcode_df = pd.read_csv(\"../Output/AirBnB_Reviews_Zipcode.csv\")"
   ]
  },
  {
   "cell_type": "code",
   "execution_count": null,
   "metadata": {},
   "outputs": [],
   "source": [
    "airbnb_rent_df = pd.merge(airbnb_zipcode_df, rent_df, on=\"Zipcode\")\n",
    "airbnb_rent_df"
   ]
  },
  {
   "cell_type": "code",
   "execution_count": null,
   "metadata": {},
   "outputs": [],
   "source": [
    "airbnb_rent_df.to_csv(\"../Output/AirBnB_Reviews_Rent_Data.csv\", encoding=\"utf-8\", index=False)"
   ]
  }
 ],
 "metadata": {
  "kernelspec": {
   "display_name": "Python 3",
   "language": "python",
   "name": "python3"
  },
  "language_info": {
   "codemirror_mode": {
    "name": "ipython",
    "version": 3
   },
   "file_extension": ".py",
   "mimetype": "text/x-python",
   "name": "python",
   "nbconvert_exporter": "python",
   "pygments_lexer": "ipython3",
   "version": "3.7.4"
  }
 },
 "nbformat": 4,
 "nbformat_minor": 2
}
