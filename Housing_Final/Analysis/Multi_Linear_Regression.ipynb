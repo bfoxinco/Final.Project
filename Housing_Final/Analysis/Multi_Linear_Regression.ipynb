{
 "cells": [
  {
   "cell_type": "code",
   "execution_count": null,
   "metadata": {},
   "outputs": [],
   "source": [
    "import pandas as pd  \n",
    "import numpy as np \n",
    "from scipy import stats\n",
    "import matplotlib.pyplot as plt  \n",
    "from sklearn.linear_model import LinearRegression\n",
    "from regressors import stats\n",
    "%matplotlib inline"
   ]
  },
  {
   "cell_type": "code",
   "execution_count": null,
   "metadata": {},
   "outputs": [],
   "source": [
    "housing_census_df = pd.read_csv(\"../Output/Chicago_Housing_and_Census_Data.csv\")\n",
    "\n",
    "yelp_df = pd.read_csv(\"../Output/Yelp_Data.csv\")\n",
    "\n",
    "crime_df = pd.read_csv(\"../Output/Crime_Count_by_Zip.csv\")\n",
    "\n",
    "airbnb_df = pd.read_csv(\"../Output/AirBnB_Reviews_Zipcode.csv\")\n",
    "airbnb_df.head()"
   ]
  },
  {
   "cell_type": "code",
   "execution_count": null,
   "metadata": {},
   "outputs": [],
   "source": [
    "yelp_housing_df = pd.merge(yelp_df, housing_census_df, how='inner', on='Zipcode')\n",
    "yelp_crime_housing_df = pd.merge(yelp_housing_df, crime_df, how='inner', on='Zipcode')\n",
    "all_data_df = pd.merge(yelp_crime_housing_df, airbnb_df, how='inner', on='Zipcode')\n",
    "housing_census_df.head()"
   ]
  },
  {
   "cell_type": "code",
   "execution_count": null,
   "metadata": {},
   "outputs": [],
   "source": [
    "all_data_df['Nightlife per 1000 People'] = (all_data_df['Total Nightlife']/ all_data_df['Population'])*1000\n",
    "all_data_df['Entertainment per 1000 People'] = ((all_data_df['Total Nightlife']+all_data_df['Total Restaurant'])/ all_data_df['Population'])*1000\n",
    "all_data_df['Restaurants per 1000 People'] = (all_data_df['Total Restaurant']/ all_data_df['Population'])*1000\n",
    "all_data_df['Grocery per 1000 People'] = (all_data_df['Total Grocery']/ all_data_df['Population'])*1000\n",
    "all_data_df['Crime per 1000 People']=(all_data_df['Crime Count']/all_data_df['Population'])*1000\n",
    "all_data_df['Total Entertainment'] = ((all_data_df['Total Nightlife']+all_data_df['Total Restaurant']))\n",
    "all_data_df['Total Amenity'] = ((all_data_df['Total Nightlife']+all_data_df['Total Restaurant']+all_data_df['Total Grocery']))\n",
    "all_data_df.head()"
   ]
  },
  {
   "cell_type": "code",
   "execution_count": null,
   "metadata": {},
   "outputs": [],
   "source": [
    "len(all_data_df)"
   ]
  },
  {
   "cell_type": "code",
   "execution_count": null,
   "metadata": {},
   "outputs": [],
   "source": [
    "all_data_df[\"Downtown\"] = \" \"\n",
    "for index, row in all_data_df.iterrows():\n",
    "    if row['Zipcode']==60602:\n",
    "        all_data_df.loc[index, 'Downtown'] = 1\n",
    "    elif row['Zipcode']==60603:\n",
    "        all_data_df.loc[index, 'Downtown']= 1\n",
    "    elif row['Zipcode']==60604:\n",
    "        all_data_df.loc[index, 'Downtown']=1\n",
    "    elif row['Zipcode']==60606:\n",
    "        all_data_df.loc[index, 'Downtown']=1\n",
    "    else:\n",
    "        all_data_df.loc[index, 'Downtown']=0\n",
    "all_data_df.head()"
   ]
  },
  {
   "cell_type": "code",
   "execution_count": null,
   "metadata": {},
   "outputs": [],
   "source": [
    "x = all_data_df[[ \"Household Income\", \"Poverty Count\",  \"AirBnB Review Count\", \"Total Amenity\", \"Crime Count\"]].values"
   ]
  },
  {
   "cell_type": "code",
   "execution_count": null,
   "metadata": {},
   "outputs": [],
   "source": [
    "regressor = LinearRegression()\n",
    "regressor.fit(x, y)\n",
    "\n",
    "xlabels = [ \"Household Income\", \"Poverty Count\",  \"AirBnB Review Count\", \"Total Amenity\", \"Crime Count\"]\n",
    "\n",
    "stats.summary(regressor, x, y, xlabels)"
   ]
  },
  {
   "cell_type": "code",
   "execution_count": null,
   "metadata": {},
   "outputs": [],
   "source": [
    "y_pred = regressor.predict(x)"
   ]
  },
  {
   "cell_type": "code",
   "execution_count": null,
   "metadata": {},
   "outputs": [],
   "source": [
    "zipcode =all_data_df['Zipcode'].tolist()\n",
    "df = pd.DataFrame({'Actual': y, 'Predicted': y_pred})\n",
    "plt.show()\n",
    "df_subset = df.head(15)"
   ]
  },
  {
   "cell_type": "code",
   "execution_count": null,
   "metadata": {},
   "outputs": [],
   "source": [
    "df_subset.plot(kind='bar',figsize=(10,8))\n",
    "tick_locations = [value for value in range(0,len(df_subset))]\n",
    "plt.xticks(tick_locations, zipcode)\n",
    "plt.grid(which='major', linestyle='-', linewidth='0.5', color='green')\n",
    "plt.grid(which='minor', linestyle=':', linewidth='0.5', color='black')\n",
    "plt.title(\"Actual vs Predicted Median Rent Values by Zipcode\", fontsize=14)\n",
    "plt.ylabel(\"Median Rent Value\", fontsize=12)\n",
    "plt.xlabel(\"Zipcode\", fontsize=12)\n",
    "plt.savefig(\"../Images/Actual_vs_Predicted_Median_Rent.png\", bbox_inches=\"tight\")\n",
    "plt.show()"
   ]
  },
  {
   "cell_type": "code",
   "execution_count": null,
   "metadata": {},
   "outputs": [],
   "source": [
    "correlation_data = all_data_df[[\"Median Rent\", \"Household Income\", \"AirBnB Review Count\", \"Total Nightlife\", \n",
    "                        \"Total Restaurant\", \"Total Grocery\", \"Total Entertainment\", \"Total Amenity\",\"Crime Count\" ]]\n",
    "correlation_data.head()"
   ]
  },
  {
   "cell_type": "code",
   "execution_count": null,
   "metadata": {},
   "outputs": [],
   "source": [
    "correlation_data.corr(method ='pearson') "
   ]
  },
  {
   "cell_type": "code",
   "execution_count": null,
   "metadata": {},
   "outputs": [],
   "source": [
    "from scipy.stats import sem\n",
    "from scipy import stats"
   ]
  },
  {
   "cell_type": "code",
   "execution_count": null,
   "metadata": {},
   "outputs": [],
   "source": [
    "all_data_df.head(10)"
   ]
  },
  {
   "cell_type": "code",
   "execution_count": null,
   "metadata": {},
   "outputs": [],
   "source": [
    "downtown = all_data_df.loc[all_data_df[\"Downtown\"] == 1, :]\n",
    "rest_of_Chicago = all_data_df.loc[all_data_df[\"Downtown\"] == 0, :]"
   ]
  },
  {
   "cell_type": "code",
   "execution_count": null,
   "metadata": {},
   "outputs": [],
   "source": [
    "downtown_means = np.mean(downtown[\"Crime Count\"])\n",
    "downtown_sem = sem(downtown[\"Crime Count\"])\n",
    "\n",
    "rec_means = np.mean(rest_of_Chicago[\"Crime Count\"])\n",
    "rec_sem = sem(rest_of_Chicago[\"Crime Count\"])\n",
    "\n",
    "means = [downtown_means, rec_means]\n",
    "sems = [downtown_sem, rec_sem]\n",
    "labels = [\"Downtown\", \"Rest of Chicago\"]"
   ]
  },
  {
   "cell_type": "code",
   "execution_count": null,
   "metadata": {},
   "outputs": [],
   "source": [
    "fig, ax = plt.subplots()\n",
    "\n",
    "ax.errorbar(np.arange(0, len(means)), means, yerr=sems, fmt=\"o\")\n",
    "\n",
    "ax.set_xlim(-0.5, 2.5)\n",
    "ax.set_xticklabels(labels, fontsize=12)\n",
    "ax.set_xticks([0, 1])\n",
    "\n",
    "ax.set_ylabel(\"Crime Count\", fontsize=12)\n",
    "\n",
    "plt.show()"
   ]
  },
  {
   "cell_type": "code",
   "execution_count": null,
   "metadata": {},
   "outputs": [],
   "source": [
    "(t_stat, p) = stats.ttest_ind(downtown[\"Crime Count\"], rest_of_Chicago[\"Crime Count\"], equal_var=False)"
   ]
  },
  {
   "cell_type": "code",
   "execution_count": null,
   "metadata": {},
   "outputs": [],
   "source": [
    "print(f'the p value is {p}')\n",
    "\n",
    "if p < 0.05:\n",
    "    print(\" And the difference in sample means is significant.\")\n",
    "else:\n",
    "    print(\"And the difference in sample means is not significant.\")"
   ]
  }
 ],
 "metadata": {
  "kernelspec": {
   "display_name": "Python 3",
   "language": "python",
   "name": "python3"
  },
  "language_info": {
   "codemirror_mode": {
    "name": "ipython",
    "version": 3
   },
   "file_extension": ".py",
   "mimetype": "text/x-python",
   "name": "python",
   "nbconvert_exporter": "python",
   "pygments_lexer": "ipython3",
   "version": "3.7.4"
  }
 },
 "nbformat": 4,
 "nbformat_minor": 2
}
