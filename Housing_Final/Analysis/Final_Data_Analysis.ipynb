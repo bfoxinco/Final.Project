{
 "cells": [
  {
   "cell_type": "code",
   "execution_count": null,
   "metadata": {},
   "outputs": [],
   "source": [
    "import requests\n",
    "import json\n",
    "import pandas as pd\n",
    "import matplotlib.pyplot as plt\n",
    "\n",
    "import gmaps\n",
    "from config import gkey\n",
    "\n",
    "gmaps.configure(api_key=gkey)"
   ]
  },
  {
   "cell_type": "code",
   "execution_count": null,
   "metadata": {},
   "outputs": [],
   "source": [
    "housing_census_df = pd.read_csv(\"../Output/Chicago_Housing_and_Census_Data.csv\")\n",
    "\n",
    "yelp_df = pd.read_csv(\"../Output/Yelp_Data.csv\")\n",
    "\n",
    "crime_df = pd.read_csv(\"../Output/Crime_Count_by_Zip.csv\")\n",
    "\n",
    "airbnb_df = pd.read_csv(\"../Output/AirBnB_Reviews_Rent_Data.csv\")\n",
    "airbnb_df.head()"
   ]
  },
  {
   "cell_type": "code",
   "execution_count": null,
   "metadata": {},
   "outputs": [],
   "source": [
    "housing_census_df['Zipcode'] = pd.to_numeric(housing_census_df['Zipcode'])\n",
    "\n",
    "yelp_df['Zipcode'] = pd.to_numeric(yelp_df['Zipcode'])\n",
    "\n",
    "crime_df['Zipcode'] = pd.to_numeric(crime_df['Zipcode'])\n",
    "\n",
    "airbnb_df['Zipcode'] = pd.to_numeric(airbnb_df['Zipcode'])\n",
    "\n",
    "yelp_housing_df = pd.merge(yelp_df, housing_census_df, how='inner', on='Zipcode')\n",
    "yelp_housing_df.head()"
   ]
  },
  {
   "cell_type": "code",
   "execution_count": null,
   "metadata": {},
   "outputs": [],
   "source": [
    "crime_housing_df=pd.merge(crime_df, housing_census_df, on = \"Zipcode\")\n",
    "crime_housing_df.head()"
   ]
  },
  {
   "cell_type": "code",
   "execution_count": null,
   "metadata": {},
   "outputs": [],
   "source": [
    "yelp_housing_df['Nightlife per 1000'] = (yelp_housing_df['Total Nightlife']/ yelp_housing_df['Population'])*1000\n",
    "yelp_housing_df['Restaurants per 1000'] = (yelp_housing_df['Total Restaurant']/ yelp_housing_df['Population'])*1000\n",
    "yelp_housing_df['Grocery per 1000'] = (yelp_housing_df['Total Grocery']/ yelp_housing_df['Population'])*1000\n",
    "yelp_housing_df.head()"
   ]
  },
  {
   "cell_type": "code",
   "execution_count": null,
   "metadata": {},
   "outputs": [],
   "source": [
    "crime_housing_df['Crime Per 1000 People']=(crime_housing_df['Crime Count']/crime_housing_df['Population'])*1000\n",
    "crime_housing_df.head(12)"
   ]
  },
  {
   "cell_type": "code",
   "execution_count": null,
   "metadata": {},
   "outputs": [],
   "source": [
    "from scipy.stats import sem"
   ]
  },
  {
   "cell_type": "code",
   "execution_count": null,
   "metadata": {},
   "outputs": [],
   "source": [
    "downtown_rents = [randint(1, 5) * 1000 for x in range(1, 10)]"
   ]
  },
  {
   "cell_type": "code",
   "execution_count": null,
   "metadata": {},
   "outputs": [],
   "source": [
    "fig,axl = plt.subplots()\n",
    "axl.set_facecolor('lavender')\n",
    "plt.scatter(housing_census_df['Median Home Value'], housing_census_df['Median Rent'], edgecolor = 'black', marker='o')\n",
    "plt.grid (color='white')\n",
    "plt.title(\"Median Rent vs. Median Home Value by Zipcode\", fontsize=14)\n",
    "plt.xlabel(\"Median Home Value ($)\", fontsize=12)\n",
    "plt.ylabel(\"Median Rent ($)\", fontsize=12)\n",
    "plt.savefig(\"../Images/Rent_Vs_House_Value.png\", bbox_inches='tight')\n",
    "plt.show()"
   ]
  },
  {
   "cell_type": "code",
   "execution_count": null,
   "metadata": {},
   "outputs": [],
   "source": [
    "fig,axl = plt.subplots()\n",
    "axl.set_facecolor('lavender')\n",
    "plt.scatter(housing_census_df['Household Income'], housing_census_df['Median Rent'], edgecolor = 'black', marker='o')\n",
    "plt.grid (color='white')\n",
    "plt.title(\"Median Rent vs. Household Income by Zipcode\", fontsize=14)\n",
    "plt.xlabel(\"Household Income ($)\", fontsize=12)\n",
    "plt.ylabel(\"Median Rent ($)\", fontsize=12)\n",
    "plt.savefig(\"../Images/Rent_Vs_Household_income.png\", bbox_inches='tight')\n",
    "plt.show()"
   ]
  },
  {
   "cell_type": "code",
   "execution_count": null,
   "metadata": {},
   "outputs": [],
   "source": [
    "fig,axl = plt.subplots()\n",
    "axl.set_facecolor('lavender')\n",
    "plt.scatter(housing_census_df['Poverty Rate'], housing_census_df['Median Rent'], edgecolor = 'black', marker='o')\n",
    "plt.grid (color='white')\n",
    "plt.title(\"Median Rent vs. Poverty Rate by Zipcode\", fontsize=14)\n",
    "plt.xlabel(\"Poverty Rate\", fontsize=12)\n",
    "plt.ylabel(\"Median Rent ($)\", fontsize=12)\n",
    "plt.savefig(\"../Images/Rent_Vs_Poverty_Rate.png\", bbox_inches='tight')\n",
    "plt.show()"
   ]
  },
  {
   "cell_type": "code",
   "execution_count": null,
   "metadata": {},
   "outputs": [],
   "source": [
    "fig,axl = plt.subplots()\n",
    "axl.set_facecolor('lavender')\n",
    "plt.scatter(yelp_housing_df[\"Nightlife per 1000\"], yelp_housing_df[\"Median Rent\"], edgecolor = 'black', marker='o')\n",
    "plt.grid (color='white')\n",
    "plt.title(\"Median Rent vs. Nightlife per 1000 People by Zipcode\", fontsize=14)\n",
    "plt.xlabel(\"Nightlife per 1000 People\", fontsize=12)\n",
    "plt.ylabel(\"Median Rent ($)\", fontsize=12)\n",
    "plt.savefig(\"../Images/Rent_Vs_NightLife.png\", bbox_inches='tight')\n",
    "plt.show()"
   ]
  },
  {
   "cell_type": "code",
   "execution_count": null,
   "metadata": {},
   "outputs": [],
   "source": [
    "fig,axl = plt.subplots()\n",
    "axl.set_facecolor('lavender')\n",
    "plt.scatter(yelp_housing_df[\"Restaurants per 1000\"], yelp_housing_df[\"Median Rent\"], edgecolor = 'black', marker='o')\n",
    "plt.grid (color='white')\n",
    "plt.title(\"Median Rent vs. Restaurants per 1000 People by Zipcode\", fontsize=14)\n",
    "plt.xlabel(\"Restaurants per 1000 People\", fontsize=12)\n",
    "plt.ylabel(\"Median Rent ($)\", fontsize=12)\n",
    "plt.savefig(\"../Images/Rent_Vs_Restaurants.png\", bbox_inches='tight')\n",
    "plt.show()"
   ]
  },
  {
   "cell_type": "code",
   "execution_count": null,
   "metadata": {},
   "outputs": [],
   "source": [
    "fig,axl = plt.subplots()\n",
    "axl.set_facecolor('lavender')\n",
    "plt.scatter(yelp_housing_df[\"Grocery per 1000\"],yelp_housing_df[\"Median Rent\"], edgecolor = 'black', marker='o')\n",
    "plt.grid(color=\"white\")\n",
    "plt.title(\"Median Rent vs. Grocery per 1000 People by Zipcode\", fontsize=14)\n",
    "plt.xlabel(\"Grocery per 1000 People\", fontsize=12)\n",
    "plt.ylabel(\"Median Rent ($)\", fontsize=12)\n",
    "plt.savefig(\"../Images/Rent_Vs_Grocery.png\", bbox_inches='tight')\n",
    "plt.show()"
   ]
  },
  {
   "cell_type": "code",
   "execution_count": null,
   "metadata": {},
   "outputs": [],
   "source": [
    "fig,axl = plt.subplots()\n",
    "axl.set_facecolor('lavender')\n",
    "plt.scatter(crime_housing_df[\"Crime Per 1000 People\"],crime_housing_df[\"Median Rent\"], edgecolor = 'black', marker='o')\n",
    "plt.grid(color=\"white\")\n",
    "plt.title(\"Median Rent vs. Crime Per 1000 People by Zipcode\", fontsize=14)\n",
    "plt.xlabel(\"Crime Per 1000 People\", fontsize=12)\n",
    "plt.ylabel(\"Median Rent ($)\", fontsize=12)\n",
    "plt.savefig(\"../Images/Rent_Vs_Crime.png\", bbox_inches='tight')\n",
    "plt.show()"
   ]
  },
  {
   "cell_type": "code",
   "execution_count": null,
   "metadata": {},
   "outputs": [],
   "source": [
    "fig,axl = plt.subplots()\n",
    "axl.set_facecolor('lavender')\n",
    "plt.scatter(airbnb_df[\"AirBnB Review Count\"],airbnb_df[\"Median Rent\"], edgecolor = 'black', marker='o')\n",
    "plt.grid(color=\"white\")\n",
    "plt.title(\"Median Rent vs. AirBnB Review Counts by Zipcode\", fontsize=14)\n",
    "plt.xlabel(\"AirBnB Review Counts\", fontsize=12)\n",
    "plt.ylabel(\"Median Rent ($)\", fontsize=12)\n",
    "plt.savefig(\"../Images/Rent_Vs_AirBnB_Reviews.png\", bbox_inches='tight')\n",
    "plt.show()"
   ]
  },
  {
   "cell_type": "code",
   "execution_count": null,
   "metadata": {},
   "outputs": [],
   "source": [
    "locations = housing_census_df[[\"Lat\", \"Lng\"]]\n",
    "\n",
    "rent = housing_census_df[\"Median Rent\"].astype(float)"
   ]
  },
  {
   "cell_type": "code",
   "execution_count": null,
   "metadata": {},
   "outputs": [],
   "source": [
    "fig = gmaps.figure()\n",
    "weight = rent * 0.1\n",
    "heat_layer = gmaps.heatmap_layer(locations, weights=weight, \n",
    "                                 dissipating=False, point_radius=0.02, max_intensity=200)\n",
    "\n",
    "\n",
    "fig.add_layer(heat_layer)\n",
    "\n",
    "fig"
   ]
  },
  {
   "cell_type": "code",
   "execution_count": null,
   "metadata": {},
   "outputs": [],
   "source": []
  },
  {
   "cell_type": "code",
   "execution_count": null,
   "metadata": {},
   "outputs": [],
   "source": []
  }
 ],
 "metadata": {
  "kernelspec": {
   "display_name": "Python 3",
   "language": "python",
   "name": "python3"
  },
  "language_info": {
   "codemirror_mode": {
    "name": "ipython",
    "version": 3
   },
   "file_extension": ".py",
   "mimetype": "text/x-python",
   "name": "python",
   "nbconvert_exporter": "python",
   "pygments_lexer": "ipython3",
   "version": "3.7.4"
  }
 },
 "nbformat": 4,
 "nbformat_minor": 2
}
